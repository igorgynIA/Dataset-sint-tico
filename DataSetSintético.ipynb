{
  "nbformat": 4,
  "nbformat_minor": 0,
  "metadata": {
    "colab": {
      "provenance": [],
      "authorship_tag": "ABX9TyNbPmjz7cWZaRajRAp/i+vz",
      "include_colab_link": true
    },
    "kernelspec": {
      "name": "python3",
      "display_name": "Python 3"
    },
    "language_info": {
      "name": "python"
    }
  },
  "cells": [
    {
      "cell_type": "markdown",
      "metadata": {
        "id": "view-in-github",
        "colab_type": "text"
      },
      "source": [
        "<a href=\"https://colab.research.google.com/github/igorgynIA/Dataset-sint-tico/blob/main/DataSetSint%C3%A9tico.ipynb\" target=\"_parent\"><img src=\"https://colab.research.google.com/assets/colab-badge.svg\" alt=\"Open In Colab\"/></a>"
      ]
    },
    {
      "cell_type": "code",
      "source": [
        "! pip install faker"
      ],
      "metadata": {
        "colab": {
          "base_uri": "https://localhost:8080/"
        },
        "id": "gAcA7NBoPBC7",
        "outputId": "ab12e13a-e805-49d5-a3fe-806df07aabb9"
      },
      "execution_count": null,
      "outputs": [
        {
          "output_type": "stream",
          "name": "stdout",
          "text": [
            "Collecting faker\n",
            "  Downloading Faker-25.2.0-py3-none-any.whl (1.8 MB)\n",
            "\u001b[2K     \u001b[90m━━━━━━━━━━━━━━━━━━━━━━━━━━━━━━━━━━━━━━━━\u001b[0m \u001b[32m1.8/1.8 MB\u001b[0m \u001b[31m8.4 MB/s\u001b[0m eta \u001b[36m0:00:00\u001b[0m\n",
            "\u001b[?25hRequirement already satisfied: python-dateutil>=2.4 in /usr/local/lib/python3.10/dist-packages (from faker) (2.8.2)\n",
            "Requirement already satisfied: six>=1.5 in /usr/local/lib/python3.10/dist-packages (from python-dateutil>=2.4->faker) (1.16.0)\n",
            "Installing collected packages: faker\n",
            "Successfully installed faker-25.2.0\n"
          ]
        }
      ]
    },
    {
      "cell_type": "code",
      "execution_count": null,
      "metadata": {
        "colab": {
          "base_uri": "https://localhost:8080/",
          "height": 219
        },
        "id": "LWOVliWQLMWx",
        "outputId": "f3e9e658-ace1-47f8-b6b1-56becf1cbb52",
        "collapsed": true
      },
      "outputs": [
        {
          "output_type": "error",
          "ename": "NameError",
          "evalue": "name 'trabalho' is not defined",
          "traceback": [
            "\u001b[0;31m---------------------------------------------------------------------------\u001b[0m",
            "\u001b[0;31mNameError\u001b[0m                                 Traceback (most recent call last)",
            "\u001b[0;32m<ipython-input-3-da6b6c5731a9>\u001b[0m in \u001b[0;36m<cell line: 29>\u001b[0;34m()\u001b[0m\n\u001b[1;32m     29\u001b[0m data = {\"Nome\": nomes,\n\u001b[1;32m     30\u001b[0m         \u001b[0;34m\"Idade\"\u001b[0m\u001b[0;34m:\u001b[0m \u001b[0midade\u001b[0m\u001b[0;34m,\u001b[0m\u001b[0;34m\u001b[0m\u001b[0;34m\u001b[0m\u001b[0m\n\u001b[0;32m---> 31\u001b[0;31m         \u001b[0;34m\"Empresa\"\u001b[0m\u001b[0;34m:\u001b[0m \u001b[0mtrabalho\u001b[0m\u001b[0;34m,\u001b[0m\u001b[0;34m\u001b[0m\u001b[0;34m\u001b[0m\u001b[0m\n\u001b[0m\u001b[1;32m     32\u001b[0m         \u001b[0;34m\"Origem\"\u001b[0m\u001b[0;34m:\u001b[0m \u001b[0mpais\u001b[0m\u001b[0;34m,\u001b[0m\u001b[0;34m\u001b[0m\u001b[0;34m\u001b[0m\u001b[0m\n\u001b[1;32m     33\u001b[0m         \u001b[0;34m\"Cargo\"\u001b[0m\u001b[0;34m:\u001b[0m \u001b[0mcargo\u001b[0m\u001b[0;34m,\u001b[0m\u001b[0;34m\u001b[0m\u001b[0;34m\u001b[0m\u001b[0m\n",
            "\u001b[0;31mNameError\u001b[0m: name 'trabalho' is not defined"
          ]
        }
      ],
      "source": [
        "from faker import Faker\n",
        "import pandas as pd\n",
        "import random\n",
        "\n",
        "fake = Faker(\"pt_BR\")\n",
        "\n",
        "nomes = []\n",
        "pais = []\n",
        "salario = []\n",
        "cargo = []\n",
        "idade = []\n",
        "\n",
        "for i in range(100):\n",
        "  fake_name = fake.name()\n",
        "  nomes.append(fake_name)\n",
        "  city = fake.country()\n",
        "  pais.append(city)\n",
        "  dimdim = random.randint(500,2000)\n",
        "  salario.append(dimdim)\n",
        "  job = fake.job()\n",
        "  cargo.append(job)\n",
        "  old = random.randint(18,80)\n",
        "  idade.append(old)\n",
        "\n",
        "\n",
        "data = {\"Nome\": nomes,\n",
        "        \"Idade\": idade,\n",
        "        \"Origem\": pais,\n",
        "        \"Cargo\": cargo,\n",
        "        \"Salário($)\": salario}\n",
        "\n",
        "df = pd.DataFrame(data)\n",
        "display(df)\n",
        "\n",
        "#df.to_excel(\"dataset_sintético.xlsx\", index=False)\n",
        "\n",
        "\n",
        "\n",
        "#Pegar foto das pessoas no This person doesn't exist\n",
        "#Passar para csv ou excel\n",
        "#Postar na area de datasets sintéticos do kaggle\n",
        "#Linkar no Linkedin o dataset"
      ]
    }
  ]
}